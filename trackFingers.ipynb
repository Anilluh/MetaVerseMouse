{
 "cells": [
  {
   "cell_type": "code",
   "execution_count": 1,
   "metadata": {},
   "outputs": [],
   "source": [
    " import cv2\n",
    "import numpy as np"
   ]
  },
  {
   "cell_type": "code",
   "execution_count": 2,
   "metadata": {},
   "outputs": [],
   "source": [
    "bgSubtractor = cv2.createBackgroundSubtractorMOG2(history=10, varThreshold=30, detectShadows=False)"
   ]
  },
  {
   "cell_type": "code",
   "execution_count": 3,
   "metadata": {},
   "outputs": [],
   "source": [
    "def bgSubMasking(self, frame):\n",
    "    \"\"\"Create a foreground (hand) mask\n",
    "    @param frame: The video frame\n",
    "    @return: A masked frame\n",
    "    \"\"\"\n",
    "    fgmask = bgSubtractor.apply(frame, learningRate=0)    \n",
    "\n",
    "    kernel = np.ones((4, 4), np.uint8)\n",
    "    \n",
    "    # The effect is to remove the noise in the background\n",
    "    fgmask = cv2.morphologyEx(fgmask, cv2.MORPH_OPEN, kernel, iterations=2)\n",
    "    # To close the holes in the objects\n",
    "    fgmask = cv2.morphologyEx(fgmask, cv2.MORPH_CLOSE, kernel, iterations=2)\n",
    "    \n",
    "    # Apply the mask on the frame and return\n",
    "    return cv2.bitwise_and(frame, frame, mask=fgmask)"
   ]
  },
  {
   "cell_type": "code",
   "execution_count": 6,
   "metadata": {},
   "outputs": [
    {
     "ename": "AttributeError",
     "evalue": "'FingersNumberDetector' object has no attribute 'lookUpTable'",
     "output_type": "error",
     "traceback": [
      "\u001b[1;31m---------------------------------------------------------------------------\u001b[0m",
      "\u001b[1;31mAttributeError\u001b[0m                            Traceback (most recent call last)",
      "\u001b[1;32md:\\Thapar\\6th sem\\MetaVerseMouse Project\\MetaVerseMouse\\trackFingers.ipynb Cell 4\u001b[0m in \u001b[0;36m<cell line: 61>\u001b[1;34m()\u001b[0m\n\u001b[0;32m     <a href='vscode-notebook-cell:/d%3A/Thapar/6th%20sem/MetaVerseMouse%20Project/MetaVerseMouse/trackFingers.ipynb#W3sZmlsZQ%3D%3D?line=60'>61</a>\u001b[0m \u001b[39mif\u001b[39;00m \u001b[39m__name__\u001b[39m \u001b[39m==\u001b[39m \u001b[39m\"\u001b[39m\u001b[39m__main__\u001b[39m\u001b[39m\"\u001b[39m:\n\u001b[0;32m     <a href='vscode-notebook-cell:/d%3A/Thapar/6th%20sem/MetaVerseMouse%20Project/MetaVerseMouse/trackFingers.ipynb#W3sZmlsZQ%3D%3D?line=61'>62</a>\u001b[0m     detector \u001b[39m=\u001b[39m FingersNumberDetector()\n\u001b[1;32m---> <a href='vscode-notebook-cell:/d%3A/Thapar/6th%20sem/MetaVerseMouse%20Project/MetaVerseMouse/trackFingers.ipynb#W3sZmlsZQ%3D%3D?line=62'>63</a>\u001b[0m     detector\u001b[39m.\u001b[39;49mstartDetecting()\n",
      "\u001b[1;32md:\\Thapar\\6th sem\\MetaVerseMouse Project\\MetaVerseMouse\\trackFingers.ipynb Cell 4\u001b[0m in \u001b[0;36mFingersNumberDetector.startDetecting\u001b[1;34m(self)\u001b[0m\n\u001b[0;32m     <a href='vscode-notebook-cell:/d%3A/Thapar/6th%20sem/MetaVerseMouse%20Project/MetaVerseMouse/trackFingers.ipynb#W3sZmlsZQ%3D%3D?line=17'>18</a>\u001b[0m ret, frame \u001b[39m=\u001b[39m cap\u001b[39m.\u001b[39mread()\n\u001b[0;32m     <a href='vscode-notebook-cell:/d%3A/Thapar/6th%20sem/MetaVerseMouse%20Project/MetaVerseMouse/trackFingers.ipynb#W3sZmlsZQ%3D%3D?line=19'>20</a>\u001b[0m \u001b[39m# Increase the contrast\u001b[39;00m\n\u001b[0;32m     <a href='vscode-notebook-cell:/d%3A/Thapar/6th%20sem/MetaVerseMouse%20Project/MetaVerseMouse/trackFingers.ipynb#W3sZmlsZQ%3D%3D?line=20'>21</a>\u001b[0m \u001b[39m# frame = cv2.convertScaleAbs(frame, alpha=3, beta=-500)\u001b[39;00m\n\u001b[0;32m     <a href='vscode-notebook-cell:/d%3A/Thapar/6th%20sem/MetaVerseMouse%20Project/MetaVerseMouse/trackFingers.ipynb#W3sZmlsZQ%3D%3D?line=21'>22</a>\u001b[0m \n\u001b[0;32m     <a href='vscode-notebook-cell:/d%3A/Thapar/6th%20sem/MetaVerseMouse%20Project/MetaVerseMouse/trackFingers.ipynb#W3sZmlsZQ%3D%3D?line=22'>23</a>\u001b[0m \u001b[39m# Gamma corection\u001b[39;00m\n\u001b[0;32m     <a href='vscode-notebook-cell:/d%3A/Thapar/6th%20sem/MetaVerseMouse%20Project/MetaVerseMouse/trackFingers.ipynb#W3sZmlsZQ%3D%3D?line=23'>24</a>\u001b[0m \u001b[39m# Increase the contrast\u001b[39;00m\n\u001b[1;32m---> <a href='vscode-notebook-cell:/d%3A/Thapar/6th%20sem/MetaVerseMouse%20Project/MetaVerseMouse/trackFingers.ipynb#W3sZmlsZQ%3D%3D?line=24'>25</a>\u001b[0m frame \u001b[39m=\u001b[39m cv2\u001b[39m.\u001b[39mLUT(frame, \u001b[39mself\u001b[39;49m\u001b[39m.\u001b[39;49mlookUpTable)\n\u001b[0;32m     <a href='vscode-notebook-cell:/d%3A/Thapar/6th%20sem/MetaVerseMouse%20Project/MetaVerseMouse/trackFingers.ipynb#W3sZmlsZQ%3D%3D?line=26'>27</a>\u001b[0m cv2\u001b[39m.\u001b[39mrectangle(frame, (\u001b[39mself\u001b[39m\u001b[39m.\u001b[39mx0, \u001b[39mself\u001b[39m\u001b[39m.\u001b[39my0), (\u001b[39mself\u001b[39m\u001b[39m.\u001b[39mx0 \u001b[39m+\u001b[39m \u001b[39mself\u001b[39m\u001b[39m.\u001b[39mwidth \u001b[39m-\u001b[39m \u001b[39m1\u001b[39m, \u001b[39mself\u001b[39m\u001b[39m.\u001b[39my0 \u001b[39m+\u001b[39m \u001b[39mself\u001b[39m\u001b[39m.\u001b[39mheight \u001b[39m-\u001b[39m \u001b[39m1\u001b[39m), (\u001b[39m255\u001b[39m, \u001b[39m0\u001b[39m, \u001b[39m0\u001b[39m), \u001b[39m2\u001b[39m)\n\u001b[0;32m     <a href='vscode-notebook-cell:/d%3A/Thapar/6th%20sem/MetaVerseMouse%20Project/MetaVerseMouse/trackFingers.ipynb#W3sZmlsZQ%3D%3D?line=28'>29</a>\u001b[0m k \u001b[39m=\u001b[39m cv2\u001b[39m.\u001b[39mwaitKey(\u001b[39m1\u001b[39m) \u001b[39m&\u001b[39m \u001b[39m0xFF\u001b[39m\n",
      "\u001b[1;31mAttributeError\u001b[0m: 'FingersNumberDetector' object has no attribute 'lookUpTable'"
     ]
    }
   ],
   "source": [
    "# class FingersNumberDetector:\n",
    "#     def setupFrame(self, frame_width, frame_height):\n",
    "        \n",
    "#         x, y = 0.0, 0.4\n",
    "#         self.x0 = int(frame_width*x)\n",
    "#         self.y0 = int(frame_height*y)\n",
    "#         self.width = 260\n",
    "#         self.height = 260\n",
    "\n",
    "#     def startDetecting(self):\n",
    "#         cap = cv2.VideoCapture(0)\n",
    "\n",
    "#         frame_width = int(cap.get(cv2.CAP_PROP_FRAME_WIDTH))\n",
    "#         frame_height = int(cap.get(cv2.CAP_PROP_FRAME_HEIGHT))\n",
    "#         self.setupFrame(frame_width, frame_height)\n",
    "\n",
    "#         while cap.isOpened():\n",
    "#             ret, frame = cap.read()\n",
    "\n",
    "#             # Increase the contrast\n",
    "#             # frame = cv2.convertScaleAbs(frame, alpha=3, beta=-500)\n",
    "\n",
    "#             # Gamma corection\n",
    "#             # Increase the contrast\n",
    "#             frame = cv2.LUT(frame, self.lookUpTable)\n",
    "\n",
    "#             cv2.rectangle(frame, (self.x0, self.y0), (self.x0 + self.width - 1, self.y0 + self.height - 1), (255, 0, 0), 2)\n",
    "\n",
    "#             k = cv2.waitKey(1) & 0xFF\n",
    "\n",
    "#             if k == ord(\"z\"):\n",
    "#                 self.isHandHistCreated = True\n",
    "#                 handHist = self.createHandHistogram(frame)\n",
    "#             elif k == ord('b'):\n",
    "#                 self.bgSubtractor = cv2.createBackgroundSubtractorMOG2(10, self.bgSubThreshold)\n",
    "#                 self.isBgCaptured = True\n",
    "#             elif k == ord(\"r\"):\n",
    "#                 self.bgSubtractor = None\n",
    "#                 self.isBgCaptured = False\n",
    "\n",
    "#             if self.isHandHistCreated and self.isBgCaptured:\n",
    "#                 self.detectHand(frame, handHist)\n",
    "#             elif not self.isHandHistCreated:\n",
    "#                 self.drawRect(frame)\n",
    "\n",
    "#             cv2.imshow(\"Output\", frame)\n",
    "#             if k == ord(\"q\"):\n",
    "#                 break\n",
    "#             elif k == ord(\"j\"):\n",
    "#                 self.y0 = min(self.y0 + 20, frame_height - self.height)\n",
    "#             elif k == ord(\"k\"):\n",
    "#                 self.y0 = max(self.y0 - 20, 0)\n",
    "#             elif k == ord(\"h\"):\n",
    "#                 self.x0 = max(self.x0 - 20, 0)\n",
    "#             elif k == ord(\"l\"):\n",
    "#                 self.x0 = min(self.x0 + 20, frame_width - self.width)\n",
    "\n",
    "#         cap.release()\n",
    "#         cv2.destroyAllWindows()\n",
    "\n",
    "# if __name__ == \"__main__\":\n",
    "#     detector = FingersNumberDetector()\n",
    "#     detector.startDetecting()"
   ]
  }
 ],
 "metadata": {
  "kernelspec": {
   "display_name": "Python 3",
   "language": "python",
   "name": "python3"
  },
  "language_info": {
   "codemirror_mode": {
    "name": "ipython",
    "version": 3
   },
   "file_extension": ".py",
   "mimetype": "text/x-python",
   "name": "python",
   "nbconvert_exporter": "python",
   "pygments_lexer": "ipython3",
   "version": "3.10.5"
  },
  "orig_nbformat": 4,
  "vscode": {
   "interpreter": {
    "hash": "c490b76a145fe6417718be685e9af662f97939ec0c8a35f9b43eced54022d95c"
   }
  }
 },
 "nbformat": 4,
 "nbformat_minor": 2
}
